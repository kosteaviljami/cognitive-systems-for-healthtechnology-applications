{
 "cells": [
  {
   "cell_type": "code",
   "execution_count": 20,
   "metadata": {},
   "outputs": [
    {
     "data": {
      "image/png": "[encoded data removed]",
      "text/plain": [
       "<matplotlib.figure.Figure at 0x1e4ffa2e0f0>"
      ]
     },
     "metadata": {},
     "output_type": "display_data"
    }
   ],
   "source": [
    "#Generate data points and labels\n",
    "\n",
    "import numpy as np\n",
    "import matplotlib.pyplot as plt\n",
    "\n",
    "ndata = 1000 #total number of samples \n",
    "data = 2.0*np.random.rand(ndata,2)-1.\n",
    "\n",
    "labels = np.zeros(ndata,)\n",
    "bluedata_x = []\n",
    "reddata_x = []\n",
    "bluedata_y = []\n",
    "reddata_y = []\n",
    "\n",
    "for i in range(ndata):\n",
    "    if data[i,0]**2+data[i,1]**2 < 0.5:\n",
    "        reddata_x.append(data[i,0])\n",
    "        reddata_y.append(data[i,1])\n",
    "    \n",
    "    else:\n",
    "        bluedata_x.append(data[i,0])\n",
    "        bluedata_y.append(data[i,1])\n",
    "        \n",
    "plt.plot(bluedata_x,bluedata_y,'bo')\n",
    "plt.plot(reddata_x,reddata_y,'ro')\n",
    "plt.show()"
   ]
  },
  {
   "cell_type": "code",
   "execution_count": 21,
   "metadata": {
    "collapsed": true
   },
   "outputs": [],
   "source": [
    "# Dividing the data for training and testing\n",
    "\n",
    "ntrain = int(0.9*ndata) #90% for training, 10% for testing\n",
    "train_data = data[:ntrain]\n",
    "train_labels = labels[:ntrain]\n",
    "test_data = data[ntrain:]\n",
    "test_labels = labels [ntrain:]"
   ]
  },
  {
   "cell_type": "code",
   "execution_count": 22,
   "metadata": {},
   "outputs": [],
   "source": [
    "# Define the architecture of the network\n",
    "\n",
    "from keras import models, layers\n",
    "\n",
    "network = models.Sequential()\n",
    "network.add(layers.Dense(15, activation ='relu', input_shape=(2, )))\n",
    "network.add(layers.Dense(15, activation ='relu'))\n",
    "network.add(layers.Dense(1, activation ='sigmoid')) #ensures output is in"
   ]
  },
  {
   "cell_type": "code",
   "execution_count": 23,
   "metadata": {
    "collapsed": true
   },
   "outputs": [],
   "source": [
    "# Compile the network\n",
    "\n",
    "network.compile(optimizer = 'rmsprop',\n",
    "               loss = 'binary_crossentropy',\n",
    "               metrics = ['accuracy'])"
   ]
  },
  {
   "cell_type": "code",
   "execution_count": 24,
   "metadata": {},
   "outputs": [
    {
     "name": "stdout",
     "output_type": "stream",
     "text": [
      "Epoch 1/100\n",
      "900/900 [==============================] - 1s 1ms/step - loss: 0.5967 - acc: 1.0000\n",
      "Epoch 2/100\n",
      "900/900 [==============================] - 0s 21us/step - loss: 0.5497 - acc: 1.0000\n",
      "Epoch 3/100\n",
      "900/900 [==============================] - 0s 21us/step - loss: 0.5115 - acc: 1.0000\n",
      "Epoch 4/100\n",
      "900/900 [==============================] - 0s 27us/step - loss: 0.4741 - acc: 1.0000\n",
      "Epoch 5/100\n",
      "900/900 [==============================] - 0s 23us/step - loss: 0.4365 - acc: 1.0000\n",
      "Epoch 6/100\n",
      "900/900 [==============================] - 0s 21us/step - loss: 0.3985 - acc: 1.0000\n",
      "Epoch 7/100\n",
      "900/900 [==============================] - 0s 24us/step - loss: 0.3619 - acc: 1.0000\n",
      "Epoch 8/100\n",
      "900/900 [==============================] - 0s 24us/step - loss: 0.3265 - acc: 1.0000\n",
      "Epoch 9/100\n",
      "900/900 [==============================] - 0s 26us/step - loss: 0.2922 - acc: 1.0000\n",
      "Epoch 10/100\n",
      "900/900 [==============================] - 0s 27us/step - loss: 0.2594 - acc: 1.0000\n",
      "Epoch 11/100\n",
      "900/900 [==============================] - 0s 24us/step - loss: 0.2285 - acc: 1.0000\n",
      "Epoch 12/100\n",
      "900/900 [==============================] - 0s 31us/step - loss: 0.1995 - acc: 1.0000\n",
      "Epoch 13/100\n",
      "900/900 [==============================] - 0s 22us/step - loss: 0.1726 - acc: 1.0000\n",
      "Epoch 14/100\n",
      "900/900 [==============================] - 0s 22us/step - loss: 0.1479 - acc: 1.0000\n",
      "Epoch 15/100\n",
      "900/900 [==============================] - 0s 22us/step - loss: 0.1256 - acc: 1.0000\n",
      "Epoch 16/100\n",
      "900/900 [==============================] - 0s 21us/step - loss: 0.1056 - acc: 1.0000\n",
      "Epoch 17/100\n",
      "900/900 [==============================] - 0s 28us/step - loss: 0.0881 - acc: 1.0000\n",
      "Epoch 18/100\n",
      "900/900 [==============================] - 0s 28us/step - loss: 0.0727 - acc: 1.0000\n",
      "Epoch 19/100\n",
      "900/900 [==============================] - 0s 29us/step - loss: 0.0596 - acc: 1.0000\n",
      "Epoch 20/100\n",
      "900/900 [==============================] - 0s 23us/step - loss: 0.0483 - acc: 1.0000\n",
      "Epoch 21/100\n",
      "900/900 [==============================] - 0s 26us/step - loss: 0.0387 - acc: 1.0000\n",
      "Epoch 22/100\n",
      "900/900 [==============================] - 0s 23us/step - loss: 0.0307 - acc: 1.0000\n",
      "Epoch 23/100\n",
      "900/900 [==============================] - 0s 32us/step - loss: 0.0241 - acc: 1.0000\n",
      "Epoch 24/100\n",
      "900/900 [==============================] - 0s 20us/step - loss: 0.0187 - acc: 1.0000\n",
      "Epoch 25/100\n",
      "900/900 [==============================] - ETA: 0s - loss: 0.0164 - acc: 1.000 - 0s 24us/step - loss: 0.0144 - acc: 1.0000\n",
      "Epoch 26/100\n",
      "900/900 [==============================] - 0s 22us/step - loss: 0.0109 - acc: 1.0000\n",
      "Epoch 27/100\n",
      "900/900 [==============================] - 0s 19us/step - loss: 0.0082 - acc: 1.0000\n",
      "Epoch 28/100\n",
      "900/900 [==============================] - 0s 27us/step - loss: 0.0062 - acc: 1.0000\n",
      "Epoch 29/100\n",
      "900/900 [==============================] - 0s 22us/step - loss: 0.0046 - acc: 1.0000\n",
      "Epoch 30/100\n",
      "900/900 [==============================] - 0s 27us/step - loss: 0.0034 - acc: 1.0000\n",
      "Epoch 31/100\n",
      "900/900 [==============================] - 0s 28us/step - loss: 0.0025 - acc: 1.0000\n",
      "Epoch 32/100\n",
      "900/900 [==============================] - 0s 23us/step - loss: 0.0018 - acc: 1.0000\n",
      "Epoch 33/100\n",
      "900/900 [==============================] - 0s 26us/step - loss: 0.0013 - acc: 1.0000\n",
      "Epoch 34/100\n",
      "900/900 [==============================] - 0s 22us/step - loss: 9.2163e-04 - acc: 1.0000\n",
      "Epoch 35/100\n",
      "900/900 [==============================] - 0s 24us/step - loss: 6.5751e-04 - acc: 1.0000\n",
      "Epoch 36/100\n",
      "900/900 [==============================] - 0s 23us/step - loss: 4.6542e-04 - acc: 1.0000\n",
      "Epoch 37/100\n",
      "900/900 [==============================] - 0s 22us/step - loss: 3.2821e-04 - acc: 1.0000\n",
      "Epoch 38/100\n",
      "900/900 [==============================] - 0s 26us/step - loss: 2.3041e-04 - acc: 1.0000\n",
      "Epoch 39/100\n",
      "900/900 [==============================] - 0s 20us/step - loss: 1.6045e-04 - acc: 1.0000\n",
      "Epoch 40/100\n",
      "900/900 [==============================] - 0s 20us/step - loss: 1.1108e-04 - acc: 1.0000\n",
      "Epoch 41/100\n",
      "900/900 [==============================] - 0s 19us/step - loss: 7.6768e-05 - acc: 1.0000\n",
      "Epoch 42/100\n",
      "900/900 [==============================] - 0s 20us/step - loss: 5.2848e-05 - acc: 1.0000\n",
      "Epoch 43/100\n",
      "900/900 [==============================] - 0s 18us/step - loss: 3.6182e-05 - acc: 1.0000\n",
      "Epoch 44/100\n",
      "900/900 [==============================] - 0s 20us/step - loss: 2.4717e-05 - acc: 1.0000\n",
      "Epoch 45/100\n",
      "900/900 [==============================] - 0s 21us/step - loss: 1.6832e-05 - acc: 1.0000\n",
      "Epoch 46/100\n",
      "900/900 [==============================] - 0s 23us/step - loss: 1.1415e-05 - acc: 1.0000\n",
      "Epoch 47/100\n",
      "900/900 [==============================] - 0s 24us/step - loss: 7.7037e-06 - acc: 1.0000\n",
      "Epoch 48/100\n",
      "900/900 [==============================] - 0s 26us/step - loss: 5.1807e-06 - acc: 1.0000\n",
      "Epoch 49/100\n",
      "900/900 [==============================] - 0s 20us/step - loss: 3.4756e-06 - acc: 1.0000\n",
      "Epoch 50/100\n",
      "900/900 [==============================] - 0s 18us/step - loss: 2.3308e-06 - acc: 1.0000\n",
      "Epoch 51/100\n",
      "900/900 [==============================] - 0s 26us/step - loss: 1.5603e-06 - acc: 1.0000\n",
      "Epoch 52/100\n",
      "900/900 [==============================] - 0s 22us/step - loss: 1.0488e-06 - acc: 1.0000\n",
      "Epoch 53/100\n",
      "900/900 [==============================] - 0s 21us/step - loss: 7.0764e-07 - acc: 1.0000\n",
      "Epoch 54/100\n",
      "900/900 [==============================] - 0s 21us/step - loss: 4.8258e-07 - acc: 1.0000\n",
      "Epoch 55/100\n",
      "900/900 [==============================] - 0s 24us/step - loss: 3.3427e-07 - acc: 1.0000\n",
      "Epoch 56/100\n",
      "900/900 [==============================] - 0s 17us/step - loss: 2.3902e-07 - acc: 1.0000\n",
      "Epoch 57/100\n",
      "900/900 [==============================] - ETA: 0s - loss: 1.9662e-07 - acc: 1.000 - 0s 19us/step - loss: 1.7847e-07 - acc: 1.0000\n",
      "Epoch 58/100\n",
      "900/900 [==============================] - 0s 18us/step - loss: 1.4098e-07 - acc: 1.0000\n",
      "Epoch 59/100\n",
      "900/900 [==============================] - 0s 33us/step - loss: 1.1890e-07 - acc: 1.0000\n",
      "Epoch 60/100\n",
      "900/900 [==============================] - 0s 28us/step - loss: 1.0742e-07 - acc: 1.0000\n",
      "Epoch 61/100\n",
      "900/900 [==============================] - 0s 18us/step - loss: 1.0235e-07 - acc: 1.0000\n",
      "Epoch 62/100\n",
      "900/900 [==============================] - 0s 35us/step - loss: 1.0061e-07 - acc: 1.0000\n",
      "Epoch 63/100\n",
      "900/900 [==============================] - 0s 21us/step - loss: 1.0011e-07 - acc: 1.0000\n",
      "Epoch 64/100\n",
      "900/900 [==============================] - 0s 27us/step - loss: 1.0001e-07 - acc: 1.0000\n",
      "Epoch 65/100\n",
      "900/900 [==============================] - 0s 19us/step - loss: 1.0000e-07 - acc: 1.0000\n",
      "Epoch 66/100\n",
      "900/900 [==============================] - 0s 23us/step - loss: 1.0000e-07 - acc: 1.0000\n",
      "Epoch 67/100\n",
      "900/900 [==============================] - 0s 20us/step - loss: 1.0000e-07 - acc: 1.0000\n",
      "Epoch 68/100\n",
      "900/900 [==============================] - 0s 26us/step - loss: 1.0000e-07 - acc: 1.0000\n",
      "Epoch 69/100\n",
      "900/900 [==============================] - 0s 18us/step - loss: 1.0000e-07 - acc: 1.0000\n",
      "Epoch 70/100\n",
      "900/900 [==============================] - 0s 26us/step - loss: 1.0000e-07 - acc: 1.0000\n",
      "Epoch 71/100\n",
      "900/900 [==============================] - 0s 18us/step - loss: 1.0000e-07 - acc: 1.0000\n",
      "Epoch 72/100\n",
      "900/900 [==============================] - 0s 23us/step - loss: 1.0000e-07 - acc: 1.0000\n",
      "Epoch 73/100\n",
      "900/900 [==============================] - 0s 19us/step - loss: 1.0000e-07 - acc: 1.0000\n",
      "Epoch 74/100\n",
      "900/900 [==============================] - 0s 23us/step - loss: 1.0000e-07 - acc: 1.0000\n",
      "Epoch 75/100\n",
      "900/900 [==============================] - 0s 22us/step - loss: 1.0000e-07 - acc: 1.0000\n",
      "Epoch 76/100\n",
      "900/900 [==============================] - 0s 18us/step - loss: 1.0000e-07 - acc: 1.0000\n",
      "Epoch 77/100\n",
      "900/900 [==============================] - 0s 31us/step - loss: 1.0000e-07 - acc: 1.0000\n",
      "Epoch 78/100\n",
      "900/900 [==============================] - 0s 20us/step - loss: 1.0000e-07 - acc: 1.0000\n",
      "Epoch 79/100\n",
      "900/900 [==============================] - 0s 23us/step - loss: 1.0000e-07 - acc: 1.0000\n",
      "Epoch 80/100\n",
      "900/900 [==============================] - ETA: 0s - loss: 1.0000e-07 - acc: 1.000 - 0s 28us/step - loss: 1.0000e-07 - acc: 1.0000\n",
      "Epoch 81/100\n"
     ]
    },
    {
     "name": "stdout",
     "output_type": "stream",
     "text": [
      "900/900 [==============================] - 0s 19us/step - loss: 1.0000e-07 - acc: 1.0000\n",
      "Epoch 82/100\n",
      "900/900 [==============================] - 0s 21us/step - loss: 1.0000e-07 - acc: 1.0000\n",
      "Epoch 83/100\n",
      "900/900 [==============================] - 0s 23us/step - loss: 1.0000e-07 - acc: 1.0000\n",
      "Epoch 84/100\n",
      "900/900 [==============================] - 0s 23us/step - loss: 1.0000e-07 - acc: 1.0000\n",
      "Epoch 85/100\n",
      "900/900 [==============================] - 0s 21us/step - loss: 1.0000e-07 - acc: 1.0000\n",
      "Epoch 86/100\n",
      "900/900 [==============================] - 0s 23us/step - loss: 1.0000e-07 - acc: 1.0000\n",
      "Epoch 87/100\n",
      "900/900 [==============================] - 0s 24us/step - loss: 1.0000e-07 - acc: 1.0000\n",
      "Epoch 88/100\n",
      "900/900 [==============================] - 0s 22us/step - loss: 1.0000e-07 - acc: 1.0000\n",
      "Epoch 89/100\n",
      "900/900 [==============================] - 0s 23us/step - loss: 1.0000e-07 - acc: 1.0000\n",
      "Epoch 90/100\n",
      "900/900 [==============================] - 0s 23us/step - loss: 1.0000e-07 - acc: 1.0000\n",
      "Epoch 91/100\n",
      "900/900 [==============================] - 0s 26us/step - loss: 1.0000e-07 - acc: 1.0000\n",
      "Epoch 92/100\n",
      "900/900 [==============================] - 0s 23us/step - loss: 1.0000e-07 - acc: 1.0000\n",
      "Epoch 93/100\n",
      "900/900 [==============================] - 0s 26us/step - loss: 1.0000e-07 - acc: 1.0000\n",
      "Epoch 94/100\n",
      "900/900 [==============================] - 0s 22us/step - loss: 1.0000e-07 - acc: 1.0000\n",
      "Epoch 95/100\n",
      "900/900 [==============================] - 0s 24us/step - loss: 1.0000e-07 - acc: 1.0000\n",
      "Epoch 96/100\n",
      "900/900 [==============================] - 0s 28us/step - loss: 1.0000e-07 - acc: 1.0000\n",
      "Epoch 97/100\n",
      "900/900 [==============================] - 0s 31us/step - loss: 1.0000e-07 - acc: 1.0000\n",
      "Epoch 98/100\n",
      "900/900 [==============================] - 0s 27us/step - loss: 1.0000e-07 - acc: 1.0000\n",
      "Epoch 99/100\n",
      "900/900 [==============================] - 0s 26us/step - loss: 1.0000e-07 - acc: 1.0000\n",
      "Epoch 100/100\n",
      "900/900 [==============================] - 0s 33us/step - loss: 1.0000e-07 - acc: 1.0000\n"
     ]
    },
    {
     "data": {
      "text/plain": [
       "<keras.callbacks.History at 0x1e4ffc63048>"
      ]
     },
     "execution_count": 24,
     "metadata": {},
     "output_type": "execute_result"
    }
   ],
   "source": [
    "# Train the network\n",
    "network.fit(train_data, train_labels, epochs = 100, batch_size = 100)"
   ]
  },
  {
   "cell_type": "code",
   "execution_count": 25,
   "metadata": {},
   "outputs": [
    {
     "name": "stdout",
     "output_type": "stream",
     "text": [
      "100/100 [==============================] - 0s 610us/step\n",
      "test_acc 1.0\n"
     ]
    }
   ],
   "source": [
    "# Testing the trained network\n",
    "\n",
    "test_loss, test_acc = network.evaluate(test_data, test_labels)\n",
    "print('test_acc', test_acc)"
   ]
  },
  {
   "cell_type": "code",
   "execution_count": 26,
   "metadata": {},
   "outputs": [
    {
     "data": {
      "text/plain": [
       "array([[  1.00867204e-07],\n",
       "       [  1.22903812e-08]], dtype=float32)"
      ]
     },
     "execution_count": 26,
     "metadata": {},
     "output_type": "execute_result"
    }
   ],
   "source": [
    "# Investigate two sample points with the mode\n",
    "\n",
    "points = np.array([[0.3, 0.3], [0.7, 0.7]])\n",
    "network.predict(points)"
   ]
  }
 ],
 "metadata": {
  "kernelspec": {
   "display_name": "Python 3",
   "language": "python",
   "name": "python3"
  },
  "language_info": {
   "codemirror_mode": {
    "name": "ipython",
    "version": 3
   },
   "file_extension": ".py",
   "mimetype": "text/x-python",
   "name": "python",
   "nbconvert_exporter": "python",
   "pygments_lexer": "ipython3",
   "version": "3.6.3"
  }
 },
 "nbformat": 4,
 "nbformat_minor": 2
}
