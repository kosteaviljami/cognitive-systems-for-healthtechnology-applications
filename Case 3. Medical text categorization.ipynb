{
 "cells": [
  {
   "cell_type": "markdown",
   "metadata": {},
   "source": [
    "# Case 3. Medical text categorization\n",
    "Cognitive Systems for Health Technology Applications<br>\n",
    "Viljami Koho<br>\n",
    "10.3.2018<br>\n",
    "[Helsinki Metropolia University of Applied Sciences](http:/www.metropolia.fi/en)"
   ]
  },
  {
   "cell_type": "markdown",
   "metadata": {},
   "source": [
    "## 1. Objectives"
   ]
  },
  {
   "cell_type": "markdown",
   "metadata": {},
   "source": [
    "The aim of this assignment is to learn to use recurrent and 1D convolutional neural networks to categorize medical texts."
   ]
  },
  {
   "cell_type": "markdown",
   "metadata": {},
   "source": [
    "## 2. Processing raw data\n",
    "Based on listing 6.8 (p. 189) Chollet: Deep Learning with Python, 2018."
   ]
  },
  {
   "cell_type": "code",
   "execution_count": 1,
   "metadata": {
    "collapsed": true
   },
   "outputs": [],
   "source": [
    "import os\n",
    "import time\n",
    "\n",
    "ohsumed_dir = 'ohsumed-first-20000-docs/'\n",
    "train_dir = os.path.join(ohsumed_dir, 'training')\n",
    "\n",
    "# Creates two lists\n",
    "labels = []\n",
    "texts = []\n",
    "\n",
    "# Generate a list L = ['C01', 'C02, ..., 'C023']\n",
    "L = ['C{:02}'.format(n) for n in range(1, 23 + 1)]\n",
    "for label_type in L:\n",
    "    dir_name = os.path.join(train_dir, label_type)\n",
    "    for fname in os.listdir(dir_name):\n",
    "        f = open(os.path.join(dir_name, fname))\n",
    "        texts.append(f.read())\n",
    "        f.close()\n",
    "        i = L.index(label_type)\n",
    "        labels.append(i)"
   ]
  },
  {
   "cell_type": "markdown",
   "metadata": {},
   "source": [
    "## 3. Tokenize the text of the raw data\n",
    "Based on listing 6.9 (p. 189)"
   ]
  },
  {
   "cell_type": "markdown",
   "metadata": {},
   "source": [
    "-Preprocess word data into integer tensors<br>\n",
    "-Each sample is zero-padded to lenght \"maxlen\"<br>\n",
    "-Only \"max_words\" most frequent words are taken into account<br>"
   ]
  },
  {
   "cell_type": "code",
   "execution_count": 2,
   "metadata": {},
   "outputs": [
    {
     "name": "stderr",
     "output_type": "stream",
     "text": [
      "Using TensorFlow backend.\n"
     ]
    },
    {
     "name": "stdout",
     "output_type": "stream",
     "text": [
      "Found 30857 unique tokens\n"
     ]
    }
   ],
   "source": [
    "from keras.preprocessing.text import Tokenizer\n",
    "from keras.preprocessing.sequence import pad_sequences\n",
    "import numpy as np\n",
    "\n",
    "#Cuts off reviews after 300 words\n",
    "maxlen = 300\n",
    "#Considers only the top 20000 words in the dataset\n",
    "max_words = 20000\n",
    "\n",
    "tokenizer = Tokenizer(num_words = max_words)\n",
    "# Forms the words to integer lists\n",
    "tokenizer.fit_on_texts(texts)\n",
    "sequences = tokenizer.texts_to_sequences(texts)\n",
    "\n",
    "word_index = tokenizer.word_index\n",
    "print('Found %s unique tokens' % len(word_index))"
   ]
  },
  {
   "cell_type": "markdown",
   "metadata": {},
   "source": [
    "## 4. Shape the data and labels"
   ]
  },
  {
   "cell_type": "code",
   "execution_count": 3,
   "metadata": {},
   "outputs": [
    {
     "name": "stdout",
     "output_type": "stream",
     "text": [
      "Shape of data tensor: (10433, 300)\n",
      "Shape of labels tensor: (10433, 23)\n"
     ]
    }
   ],
   "source": [
    "from keras.utils.np_utils import to_categorical\n",
    "\n",
    "data = pad_sequences(sequences, maxlen = maxlen)\n",
    "\n",
    "labels = np.asarray(labels)\n",
    "one_hot_labels = to_categorical(labels)\n",
    "\n",
    "\n",
    "print('Shape of data tensor:', data.shape)\n",
    "print('Shape of labels tensor:', one_hot_labels.shape)"
   ]
  },
  {
   "cell_type": "markdown",
   "metadata": {},
   "source": [
    "### Shuffle the data and labels"
   ]
  },
  {
   "cell_type": "markdown",
   "metadata": {},
   "source": [
    "-Shuffle the training data<br>\n",
    "-Splits the data into a training set and a validation set, but first shuffles the data<br>\n",
    "-Shuffle is important when the data samples are ordered, for example all negative first, then all positive<br>"
   ]
  },
  {
   "cell_type": "code",
   "execution_count": 4,
   "metadata": {
    "collapsed": true
   },
   "outputs": [],
   "source": [
    "indices = np.arange(data.shape[0])\n",
    "np.random.shuffle(indices)\n",
    "data = data[indices]\n",
    "labels = labels[indices]\n",
    "one_hot_labels = one_hot_labels[indices]"
   ]
  },
  {
   "cell_type": "markdown",
   "metadata": {},
   "source": [
    "## 5. Build the model\n",
    "Listing 6.7 (p. 187)"
   ]
  },
  {
   "cell_type": "code",
   "execution_count": 5,
   "metadata": {},
   "outputs": [
    {
     "name": "stdout",
     "output_type": "stream",
     "text": [
      "_________________________________________________________________\n",
      "Layer (type)                 Output Shape              Param #   \n",
      "=================================================================\n",
      "embedding_1 (Embedding)      (None, 300, 32)           640000    \n",
      "_________________________________________________________________\n",
      "lstm_1 (LSTM)                (None, 100)               53200     \n",
      "_________________________________________________________________\n",
      "dense_1 (Dense)              (None, 23)                2323      \n",
      "=================================================================\n",
      "Total params: 695,523\n",
      "Trainable params: 695,523\n",
      "Non-trainable params: 0\n",
      "_________________________________________________________________\n"
     ]
    }
   ],
   "source": [
    "# Build and compile the network model\n",
    "\n",
    "from keras.models import Sequential\n",
    "from keras.layers import Flatten, Dense, Embedding, Dropout, LSTM\n",
    "\n",
    "model = Sequential()\n",
    "model.add(Embedding(max_words, 32, input_shape=(maxlen,)))\n",
    "model.add(LSTM(100, dropout=0.2))\n",
    "model.add(Dense(23, activation = 'softmax'))\n",
    "\n",
    "model.compile(optimizer = 'rmsprop',\n",
    "             loss = 'categorical_crossentropy',\n",
    "             metrics = ['accuracy'])\n",
    "\n",
    "model.summary()"
   ]
  },
  {
   "cell_type": "markdown",
   "metadata": {},
   "source": [
    "## 6. Train the model"
   ]
  },
  {
   "cell_type": "code",
   "execution_count": 6,
   "metadata": {},
   "outputs": [
    {
     "name": "stdout",
     "output_type": "stream",
     "text": [
      "Train on 8346 samples, validate on 2087 samples\n",
      "Epoch 1/20\n",
      "8346/8346 [==============================] - 81s 10ms/step - loss: 2.8183 - acc: 0.1695 - val_loss: 2.8146 - val_acc: 0.1634\n",
      "Epoch 2/20\n",
      "8346/8346 [==============================] - 80s 10ms/step - loss: 2.7158 - acc: 0.1885 - val_loss: 2.6743 - val_acc: 0.2089\n",
      "Epoch 3/20\n",
      "8346/8346 [==============================] - 78s 9ms/step - loss: 2.5646 - acc: 0.2351 - val_loss: 2.6487 - val_acc: 0.2262\n",
      "Epoch 4/20\n",
      "8346/8346 [==============================] - 77s 9ms/step - loss: 2.4380 - acc: 0.2731 - val_loss: 2.6455 - val_acc: 0.2103\n",
      "Epoch 5/20\n",
      "8346/8346 [==============================] - 78s 9ms/step - loss: 2.3384 - acc: 0.2922 - val_loss: 2.6132 - val_acc: 0.2295\n",
      "Epoch 6/20\n",
      "8346/8346 [==============================] - 78s 9ms/step - loss: 2.2272 - acc: 0.3217 - val_loss: 2.6132 - val_acc: 0.2171\n",
      "Epoch 7/20\n",
      "8346/8346 [==============================] - 78s 9ms/step - loss: 2.1232 - acc: 0.3466 - val_loss: 2.6154 - val_acc: 0.2314\n",
      "Epoch 8/20\n",
      "8346/8346 [==============================] - 78s 9ms/step - loss: 2.0232 - acc: 0.3802 - val_loss: 2.7473 - val_acc: 0.2238\n",
      "Epoch 9/20\n",
      "8346/8346 [==============================] - 78s 9ms/step - loss: 1.9434 - acc: 0.3991 - val_loss: 2.7813 - val_acc: 0.1969\n",
      "Epoch 10/20\n",
      "8346/8346 [==============================] - 77s 9ms/step - loss: 1.8530 - acc: 0.4329 - val_loss: 2.7615 - val_acc: 0.2223\n",
      "Epoch 11/20\n",
      "8346/8346 [==============================] - 77s 9ms/step - loss: 1.7759 - acc: 0.4499 - val_loss: 2.7539 - val_acc: 0.2161\n",
      "Epoch 12/20\n",
      "8346/8346 [==============================] - 77s 9ms/step - loss: 1.7133 - acc: 0.4612 - val_loss: 2.8359 - val_acc: 0.2012\n",
      "Epoch 13/20\n",
      "8346/8346 [==============================] - 77s 9ms/step - loss: 1.6416 - acc: 0.4883 - val_loss: 2.8841 - val_acc: 0.2041\n",
      "Epoch 14/20\n",
      "8346/8346 [==============================] - 77s 9ms/step - loss: 1.5847 - acc: 0.4935 - val_loss: 2.9283 - val_acc: 0.2084\n",
      "Epoch 15/20\n",
      "8346/8346 [==============================] - 77s 9ms/step - loss: 1.5405 - acc: 0.5150 - val_loss: 2.9914 - val_acc: 0.1989\n",
      "Epoch 16/20\n",
      "8346/8346 [==============================] - 78s 9ms/step - loss: 1.4959 - acc: 0.5208 - val_loss: 3.0528 - val_acc: 0.1974\n",
      "Epoch 17/20\n",
      "8346/8346 [==============================] - 77s 9ms/step - loss: 1.4438 - acc: 0.5266 - val_loss: 3.0787 - val_acc: 0.1955\n",
      "Epoch 18/20\n",
      "8346/8346 [==============================] - 78s 9ms/step - loss: 1.4076 - acc: 0.5409 - val_loss: 3.1773 - val_acc: 0.1931\n",
      "Epoch 19/20\n",
      "8346/8346 [==============================] - 78s 9ms/step - loss: 1.3692 - acc: 0.5462 - val_loss: 3.2882 - val_acc: 0.1720\n",
      "Epoch 20/20\n",
      "8346/8346 [==============================] - 81s 10ms/step - loss: 1.3318 - acc: 0.5518 - val_loss: 3.2833 - val_acc: 0.1682\n",
      "Elapsed time: 1561.79 seconds\n"
     ]
    }
   ],
   "source": [
    "import time\n",
    "\n",
    "t1 = time.time()\n",
    "\n",
    "# Fit the model to training data\n",
    "history = model.fit(data, one_hot_labels,\n",
    "                   epochs = 20,\n",
    "                   batch_size = 32,\n",
    "                   validation_split = 0.2)\n",
    "t2 = time.time()\n",
    "print('Elapsed time: {:.2f} seconds'.format((t2-t1)))"
   ]
  },
  {
   "cell_type": "markdown",
   "metadata": {},
   "source": [
    "## 7. Training results"
   ]
  },
  {
   "cell_type": "code",
   "execution_count": 7,
   "metadata": {},
   "outputs": [
    {
     "data": {
      "image/png": "[encoded data removed]",
      "text/plain": [
       "<matplotlib.figure.Figure at 0x14fb8c51588>"
      ]
     },
     "metadata": {},
     "output_type": "display_data"
    },
    {
     "data": {
      "image/png": "[encoded data removed]",
      "text/plain": [
       "<matplotlib.figure.Figure at 0x14fb8d1d5f8>"
      ]
     },
     "metadata": {},
     "output_type": "display_data"
    }
   ],
   "source": [
    "# Plot the results\n",
    "\n",
    "import matplotlib.pyplot as plt\n",
    "\n",
    "acc = history.history['acc']\n",
    "val_acc = history.history['val_acc']\n",
    "loss = history.history['loss']\n",
    "val_loss = history.history['val_loss']\n",
    "\n",
    "epochs = range(1, len(acc) + 1)\n",
    "\n",
    "plt.figure(figsize=(15, 3))\n",
    "plt.plot(epochs, acc, 'bo', label='Training acc')\n",
    "plt.plot(epochs, val_acc, 'b', label='Validation acc')\n",
    "plt.title('Training and validation accuracy')\n",
    "plt.grid()\n",
    "plt.xlabel('Epoch')\n",
    "plt.legend()\n",
    "\n",
    "\n",
    "plt.figure(figsize=(15, 3))\n",
    "plt.plot(epochs, loss, 'bo', label='Training loss')\n",
    "plt.plot(epochs, val_loss, 'b', label='Validation loss')\n",
    "plt.title('Training and validation loss')\n",
    "plt.grid()\n",
    "plt.xlabel('Epoch')\n",
    "plt.legend()\n",
    "\n",
    "plt.show()"
   ]
  },
  {
   "cell_type": "markdown",
   "metadata": {},
   "source": [
    "- My first test <br>\n",
    "    #epochs = 10,<br>\n",
    "    #batch_size = 32,<br>\n",
    "    #validation_split = 0.2)<br>\n",
    "\n",
    "    #model.add(Embedding(max_words, 32, input_length=maxlen))<br>\n",
    "    #model.add(Flatten())<br>\n",
    "        \n",
    "- At first I got the network acc near ~57 %, but I wasn't happy with the validation acc, because it was only 0,08 = ~8% which is bad... <br>\n",
    "- After that I tried other parameters to get better results...<br>\n",
    "- It didn't work distinctly<br>\n",
    "\n",
    "----------------------------------------------------------------------------------------------------------------------------\n",
    "\n",
    "- On my second test I tried some other parameters listed below...<br>\n",
    "    #epochs = 20,<br>\n",
    "    #batch_size = 64,<br>\n",
    "    #validation_split = 0.2)<br>\n",
    "    \n",
    "    #model.add(Embedding(max_words, 32, input_length=maxlen))<br>\n",
    "    #model.add(Flatten())<br>\n",
    "    \n",
    "- On my second test the acc was almost the same (~60%) and validation acc was a little bit higher than test #1 (0,125 = 12,5%)<br>\n",
    "- Still I wasn't happy with the validation acc, I needed to get that higher...<br>\n",
    "\n",
    "-----------------------------------------------------------------------------------------------------------------------------\n",
    "\n",
    "- After my second test I decided to add dropout layer and see what happens--><br>\n",
    "    #model.add(Dropout(0.3))<br>\n",
    "    \n",
    "- The result was still \"horrible\" arghh<br>\n",
    "\n",
    "- Then I tried to add other dropout layer, because I was still thinking that the network was over fitting and thatswhy the validation accuracy results were decreasing...<br>\n",
    "\n",
    "    -model.add(Dense(1024, activation = 'relu'))<br>\n",
    "    -model.add(Dropout(0.3))<br>\n",
    "    -model.add(Dense(256, activation = 'relu'))<br>\n",
    "    -model.add(Dropout(0.2))<br>\n",
    "    -model.add(Dense(len(L), activation = 'softmax'))<br>\n",
    "    \n",
    "    -history = model.fit(data, one_hot_labels,<br>\n",
    "                   epochs = 20,\n",
    "                   batch_size = 32,\n",
    "                   validation_split = 0.2)\n",
    "                \n",
    "- No effort! Validation acc was still bad and not even close to the acc values...<br>\n",
    "\n",
    "------------------------------------------------------------------------------------------------------------------------------\n",
    "\n",
    "- I made still some changes... I decided to change maxlen and max_words values\n",
    "\n",
    "- Cuts off reviews after 250 words\n",
    "    maxlen = 250\n",
    "    --> maxleng from 250 to 300\n",
    "\n",
    "- Considers only the top 10000 words in the dataset\n",
    "    max_words = 10000\n",
    "    --> max_words from 10000 to 20000\n",
    "\n",
    " --> Not significant change in the outcome\n",
    "\n",
    "------------------------------------------------------------------------------------------------------------------------------\n",
    "\n",
    "- In my final test I tried to use LSTM layer to get better results and it seemed to work better than the one I used Dense layers only.<br>\n",
    "- Now I can get better results than earlier --> acc: ~56% and val acc: ~18%<br>\n",
    "- There seems to be still some over fitting --> the val acc is decreasing slowly<br>\n",
    "- I tried to Google the problem and I found that:\"In general a model that over fits can be improved by adding more dropout, or training and validating on a larger data set.\"<br>\n",
    "- So I tried to add more dropout again.<br>"
   ]
  },
  {
   "cell_type": "markdown",
   "metadata": {},
   "source": [
    "## Metrics results"
   ]
  },
  {
   "cell_type": "code",
   "execution_count": 8,
   "metadata": {
    "collapsed": true
   },
   "outputs": [],
   "source": [
    "# Calculate the predictions\n",
    "predictions = model.predict(data)\n",
    "y_pred = np.argmax(predictions, axis = 1)"
   ]
  },
  {
   "cell_type": "code",
   "execution_count": 9,
   "metadata": {},
   "outputs": [
    {
     "data": {
      "text/plain": [
       "array([  3.77821713e-03,   2.81335600e-03,   4.77832131e-04,\n",
       "         3.41359503e-03,   2.52247718e-03,   3.27448966e-03,\n",
       "         2.23978492e-03,   1.50463283e-02,   3.42881237e-03,\n",
       "         5.12583815e-02,   3.57225211e-03,   2.11064689e-04,\n",
       "         2.36188248e-03,   6.30533695e-01,   1.65320223e-03,\n",
       "         4.60611209e-02,   1.11599192e-02,   1.59679574e-03,\n",
       "         9.91896261e-04,   2.57046567e-03,   7.59640560e-02,\n",
       "         4.41237958e-03,   1.30658180e-01], dtype=float32)"
      ]
     },
     "execution_count": 9,
     "metadata": {},
     "output_type": "execute_result"
    }
   ],
   "source": [
    "predictions[0]"
   ]
  },
  {
   "cell_type": "code",
   "execution_count": 10,
   "metadata": {
    "collapsed": true
   },
   "outputs": [],
   "source": [
    "# http://scikit-learn.org/stable/modules/model_evaluation.html\n",
    "from sklearn.metrics import accuracy_score, precision_score, f1_score, confusion_matrix\n",
    "from sklearn.metrics import classification_report, recall_score"
   ]
  },
  {
   "cell_type": "code",
   "execution_count": 11,
   "metadata": {},
   "outputs": [
    {
     "name": "stdout",
     "output_type": "stream",
     "text": [
      "             precision    recall  f1-score   support\n",
      "\n",
      "          0       0.41      0.58      0.48       423\n",
      "          1       0.44      0.27      0.34       158\n",
      "          2       0.44      0.28      0.34        65\n",
      "          3       0.55      0.71      0.62      1163\n",
      "          4       0.53      0.37      0.44       283\n",
      "          5       0.62      0.41      0.49       588\n",
      "          6       0.67      0.26      0.37       100\n",
      "          7       0.53      0.42      0.47       473\n",
      "          8       0.68      0.29      0.40       125\n",
      "          9       0.57      0.44      0.50       621\n",
      "         10       0.52      0.34      0.41       162\n",
      "         11       0.49      0.65      0.56       491\n",
      "         12       0.63      0.40      0.49       281\n",
      "         13       0.59      0.73      0.65      1249\n",
      "         14       0.37      0.32      0.34       215\n",
      "         15       0.40      0.27      0.32       200\n",
      "         16       0.41      0.51      0.46       295\n",
      "         17       0.63      0.54      0.58       388\n",
      "         18       0.63      0.16      0.26       191\n",
      "         19       0.55      0.53      0.54       525\n",
      "         20       0.71      0.44      0.54       546\n",
      "         21       0.26      0.07      0.10        92\n",
      "         22       0.43      0.54      0.48      1799\n",
      "\n",
      "avg / total       0.53      0.52      0.51     10433\n",
      "\n"
     ]
    }
   ],
   "source": [
    "# Classification results per class\n",
    "print(classification_report(labels, y_pred))"
   ]
  },
  {
   "cell_type": "code",
   "execution_count": 12,
   "metadata": {
    "scrolled": false
   },
   "outputs": [
    {
     "name": "stdout",
     "output_type": "stream",
     "text": [
      "[[244   4   1   6   8  16   1  18   0   5   1  10   1  12   6   1  10   0   0   5   7   2  65]\n",
      " [ 28  43   1  11   1   4   1   2   0   2   0   1   3   3   1   0  12   0   0  34   0   0  11]\n",
      " [  5   2  18   1   0   6   0   0   0   4   0   5   1   1   5   1   2   1   0   3   2   3   5]\n",
      " [ 12   3   0 826   5  14   4  14   5   6   2  94  10  15   9   3  12   7   4  35   3   1  79]\n",
      " [ 10   0   0   8 106   0   2   4   0  12   3   2   1   5  13   8  27   5   2   6  11   1  57]\n",
      " [ 30   3   0  63   4 240   0   2   0   9   0   9   1  14   3   0   3   6   0   5   8   1 187]\n",
      " [  6   1   4  28   1   0  26   2   2   1   0   1   0   3   0   3   9   2   1   1   1   0   8]\n",
      " [ 17   2   0  74   4   2   0 201   2   5   0   6   2  26   5   3   8   1   0  34   7   1  73]\n",
      " [  4   2   0  26   2   0   1   8  36   0   0   1   0   1   1   1  19   0   0   3   2   0  18]\n",
      " [ 10   1   0  34   8   5   0   6   1 276   1   8   4  51   3   8   9   7   2  22   8   1 156]\n",
      " [  3   2   5  12   7   0   2   1   0   6  55   0   2  10  11  13  18   0   0   2   0   0  13]\n",
      " [ 16   1   0  46   0   5   0   2   0   2   2 319   2  31   0   0   1   7   0   1   2   1  53]\n",
      " [ 16   4   1  32   1   6   0   5   0   2   1  16 113  17   8   3   2   1   0  16   1   0  36]\n",
      " [  8   2   0  16   3   5   0  12   0  10   2  18   3 913   5   2   2  10   1   7   6   0 224]\n",
      " [ 13   0   0  19   1   6   1   9   0   4   0  17   6  12  68   0  14   1   0  13   0   0  31]\n",
      " [  2   0   0  10   2   3   0   2   1  11   1   3   3  66   5  53   2   1   0   0   0   2  33]\n",
      " [ 23   5   2  20   6   5   0   2   1   5   0  10   2  17   8   5 151   2   0   8   1   0  22]\n",
      " [  2   0   1  15   5   4   0   0   0   5   5  18   2  51   2   5   1 209   7   3   3   0  50]\n",
      " [  1   1   2  30   0   2   0   0   0   3   5  21   0  20   2   2   4  46  31   4   0   0  17]\n",
      " [ 49  19   1  35   0   3   0  25   0   3   3  16   5  10   6   3  27   3   0 277   8   0  32]\n",
      " [ 15   0   1  13  16   7   1  15   0  41   9   9   0  42   4   3   7   5   0   8 240   3 107]\n",
      " [  6   0   3   1   0   6   0   1   0   5   1   3   0  22   5   4   7   4   1   0   4   6  13]\n",
      " [ 68   2   1 171  20  49   0  51   5  65  14  60  17 209  12  11  18  16   0  18  23   1 968]]\n"
     ]
    }
   ],
   "source": [
    "# Confusion matrix\n",
    "cm = confusion_matrix(labels, y_pred)\n",
    "print(np.array2string(cm, max_line_width = 100))"
   ]
  },
  {
   "cell_type": "code",
   "execution_count": 13,
   "metadata": {},
   "outputs": [
    {
     "name": "stdout",
     "output_type": "stream",
     "text": [
      "Detection of HIV in fetal central nervous system tissue.\n",
      " Neurological disease is a common finding in children with AIDS and in others without signs of disease but with evidence of congenital HIV-1 infection.\n",
      " To investigate the possibility that HIV-1 can infect fetal central nervous system (CNS) tissue and therefore possibly serve as the substrate for the abnormal neurodevelopment characteristic of pediatric AIDS, eight abortus CNS samples (one set of twins) from seven HIV-1-seropositive intravenous drug users (IVDUs) and eight control abortus CNS samples from eight HIV-1-seronegative IVDUs were analyzed for HIV-1 infection.\n",
      " HIV-1 nucleic acid was detected only after the use of polymerase chain reaction (PCR) in three of eight CNS samples from HIV-seropositive IVDUs but not in samples from seronegative subjects.\n",
      " In situ hybridization confirmed that HIV-1 DNA sequences were in cells in the CNS parenchyma of two of the three positive samples.\n",
      " This study demonstrates that HIV-1 can infect human fetal CNS tissue in vivo, but that the use of PCR may be necessary for its detection.\n",
      "\n"
     ]
    }
   ],
   "source": [
    "print(texts[indices[512]])"
   ]
  },
  {
   "cell_type": "code",
   "execution_count": 14,
   "metadata": {},
   "outputs": [
    {
     "name": "stdout",
     "output_type": "stream",
     "text": [
      "True class:  12\n",
      "Predicted class: 20\n",
      "Predictions per class:\n",
      "[ 0.09  0.05  0.    0.01  0.01  0.01  0.    0.08  0.02  0.01  0.    0.\n",
      "  0.04  0.    0.01  0.    0.11  0.    0.    0.24  0.28  0.    0.02]\n"
     ]
    },
    {
     "data": {
      "image/png": "[encoded data removed]",
      "text/plain": [
       "<matplotlib.figure.Figure at 0x14fc33cbb70>"
      ]
     },
     "metadata": {},
     "output_type": "display_data"
    }
   ],
   "source": [
    "print('True class: ', labels[512])\n",
    "print('Predicted class:', y_pred[512])\n",
    "print('Predictions per class:')\n",
    "print(np.array2string(predictions[512], precision = 2))\n",
    "\n",
    "plt.stem(predictions[512])\n",
    "plt.show()"
   ]
  },
  {
   "cell_type": "code",
   "execution_count": 15,
   "metadata": {},
   "outputs": [
    {
     "data": {
      "text/plain": [
       "'1.12.1'"
      ]
     },
     "execution_count": 15,
     "metadata": {},
     "output_type": "execute_result"
    }
   ],
   "source": [
    "np.__version__"
   ]
  },
  {
   "cell_type": "code",
   "execution_count": 16,
   "metadata": {
    "collapsed": true
   },
   "outputs": [],
   "source": [
    "#Download and preprocess test data\n",
    "\n",
    "test_dir = os.path.join(ohsumed_dir, 'test')\n",
    "\n",
    "test_labels = []\n",
    "test_texts = []\n",
    "\n",
    "for label_type in L:\n",
    "    dir_name = os.path.join(test_dir, label_type)\n",
    "    for fname in os.listdir(dir_name):\n",
    "        f = open(os.path.join(dir_name, fname))\n",
    "        test_texts.append(f.read())\n",
    "        f.close()\n",
    "        test_labels.append(L.index(label_type))\n",
    "\n",
    "test_sequences = tokenizer.texts_to_sequences(test_texts)\n",
    "x_test = pad_sequences(test_sequences, maxlen=maxlen)\n",
    "test_labels = np.asarray(test_labels)\n",
    "y_test = to_categorical(test_labels)"
   ]
  },
  {
   "cell_type": "code",
   "execution_count": 17,
   "metadata": {},
   "outputs": [
    {
     "name": "stdout",
     "output_type": "stream",
     "text": [
      "12733/12733 [==============================] - 28s 2ms/step\n"
     ]
    },
    {
     "data": {
      "text/plain": [
       "[2.63456850665855, 0.28665671879269849]"
      ]
     },
     "execution_count": 17,
     "metadata": {},
     "output_type": "execute_result"
    }
   ],
   "source": [
    "#Evaluate model with test data\n",
    "\n",
    "model.evaluate(x_test, y_test)"
   ]
  },
  {
   "cell_type": "markdown",
   "metadata": {},
   "source": [
    "## 8. Results and discussion"
   ]
  },
  {
   "cell_type": "markdown",
   "metadata": {},
   "source": [
    "- To get better results I tried to do some tricks.<br>\n",
    "- I changed the parameters over and over again and I also tried to add dropout layers because of over fitting...<br>\n",
    "- At first I guess the network was over fitting, because the val acc was declining quite powerfully.<br>\n",
    "- In my opinion the dropout layers seems not to work properly, I dont know why...<br>\n",
    "- The LSTM layer seemed to work better than the Dense layer in my opinion."
   ]
  },
  {
   "cell_type": "markdown",
   "metadata": {},
   "source": [
    "## 9. Conclusions"
   ]
  },
  {
   "cell_type": "markdown",
   "metadata": {},
   "source": [
    "- To be honest for me it was hard to get good results...<br>\n",
    "- Eventually I'm pretty happy with the result.<br>\n",
    "- taking into account my skill level I couldn't do this any better.<br>"
   ]
  }
 ],
 "metadata": {
  "kernelspec": {
   "display_name": "Python 3",
   "language": "python",
   "name": "python3"
  },
  "language_info": {
   "codemirror_mode": {
    "name": "ipython",
    "version": 3
   },
   "file_extension": ".py",
   "mimetype": "text/x-python",
   "name": "python",
   "nbconvert_exporter": "python",
   "pygments_lexer": "ipython3",
   "version": "3.6.3"
  }
 },
 "nbformat": 4,
 "nbformat_minor": 2
}
